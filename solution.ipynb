{
 "cells": [
  {
   "cell_type": "code",
   "execution_count": 210,
   "metadata": {
    "collapsed": true
   },
   "outputs": [],
   "source": [
    "import cv2\n",
    "import numpy as np"
   ]
  },
  {
   "cell_type": "code",
   "execution_count": 213,
   "outputs": [],
   "source": [
    "def pencil_sketch(image: np.array) -> np.array:\n",
    "    # Convert to grayscale\n",
    "    grayscale = cv2.cvtColor(image, cv2.COLOR_BGR2GRAY)\n",
    "    # Equalize contrast\n",
    "    grayscale = cv2.equalizeHist(grayscale)\n",
    "    # Blur grayscale\n",
    "    blurred = cv2.GaussianBlur(grayscale, (101,101), 0)\n",
    "    # Mix grayscale with blurred grayscale\n",
    "    combined = cv2.divide(grayscale, blurred, scale=255)\n",
    "    return combined"
   ],
   "metadata": {
    "collapsed": false
   }
  },
  {
   "cell_type": "code",
   "execution_count": 215,
   "outputs": [],
   "source": [
    "image = cv2.imread(\"datasets/dog.jpg\")\n",
    "\n",
    "cv2.imshow(\"Pencil Sketch\", pencil_sketch(image))\n",
    "_ = cv2.waitKey(0)"
   ],
   "metadata": {
    "collapsed": false
   }
  }
 ],
 "metadata": {
  "kernelspec": {
   "display_name": "Python 3",
   "language": "python",
   "name": "python3"
  },
  "language_info": {
   "codemirror_mode": {
    "name": "ipython",
    "version": 2
   },
   "file_extension": ".py",
   "mimetype": "text/x-python",
   "name": "python",
   "nbconvert_exporter": "python",
   "pygments_lexer": "ipython2",
   "version": "2.7.6"
  }
 },
 "nbformat": 4,
 "nbformat_minor": 0
}
